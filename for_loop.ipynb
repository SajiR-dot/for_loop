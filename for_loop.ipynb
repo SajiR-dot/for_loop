{
 "cells": [
  {
   "cell_type": "code",
   "execution_count": 4,
   "id": "8ae439b4-d83d-4489-91a1-df5aa615fd17",
   "metadata": {},
   "outputs": [
    {
     "name": "stdout",
     "output_type": "stream",
     "text": [
      "1\n",
      "2\n",
      "3\n",
      "4\n",
      "5\n",
      "6\n",
      "7\n",
      "8\n",
      "9\n",
      "10\n"
     ]
    }
   ],
   "source": [
    "# FOR LOOP QUESTIONS\n",
    "\n",
    "# BASIC LEVEL\n",
    "\n",
    "# Question 1\n",
    "\n",
    "# Write a Python program to print the numbers from 1 to 10 using a `for` loop.\n",
    "\n",
    "for i in range(1,11): #by using the range function i have specified a range from 1 to 11 as the upperbound is not included\n",
    "    print(i) # The numbers are printed as output\n",
    "    "
   ]
  },
  {
   "cell_type": "code",
   "execution_count": 9,
   "id": "f8d00360-1967-49d0-927a-762a9428df4b",
   "metadata": {},
   "outputs": [
    {
     "name": "stdout",
     "output_type": "stream",
     "text": [
      "The sum of the elements in the list is 28\n"
     ]
    }
   ],
   "source": [
    "# Question 2\n",
    "\n",
    "# Create a program that calculates the sum of all numbers in a list using a `for` loop\n",
    "\n",
    "list1 = [1,2,3,4,5,6,7] #list 1 consists of 7 integer elements \n",
    "\n",
    "sum_of_elements = 0 #Initializing the variable sum of elements to 0\n",
    "\n",
    "for i in list1:\n",
    "    sum_of_elements+=i   #um of elements is added with the individual elements we get in i\n",
    "print(f\"The sum of the elements in the list is {sum_of_elements}\") #The sum of the elements is printed as output"
   ]
  },
  {
   "cell_type": "code",
   "execution_count": 11,
   "id": "90dc7628-7bda-4f75-b39c-21af59c8e87f",
   "metadata": {},
   "outputs": [
    {
     "name": "stdin",
     "output_type": "stream",
     "text": [
      "Enter a sample string: saji\n"
     ]
    },
    {
     "name": "stdout",
     "output_type": "stream",
     "text": [
      "i j a s "
     ]
    }
   ],
   "source": [
    "# Question 3\n",
    "\n",
    "#  Write a program to print the characters of a string in reverse order using a `for` loop.\n",
    "\n",
    "s = input(\"Enter a sample string:\") #sample string is inputted\n",
    "\n",
    "for i in s[::-1]: #The string is reversed using slicing \n",
    "    print(i,end = \" \") # The individual elements are printed\n",
    "    "
   ]
  },
  {
   "cell_type": "code",
   "execution_count": 7,
   "id": "b8934ac0-52c5-47c2-bed1-6a06c18bfef2",
   "metadata": {},
   "outputs": [
    {
     "name": "stdin",
     "output_type": "stream",
     "text": [
      "Enter the number: -5\n"
     ]
    },
    {
     "name": "stdout",
     "output_type": "stream",
     "text": [
      "The factorial is undefined\n"
     ]
    }
   ],
   "source": [
    "# Question 4\n",
    "\n",
    "#  Develop a program that finds the factorial of a given number using a `for` loop.\n",
    "\n",
    "number = int(input(\"Enter the number:\")) #The number is inputed by the user and it is converted into integer \n",
    "\n",
    "factorial = 1 #Factorial variable is intitalized to 1\n",
    "\n",
    "if number>=1: # if the user input is greateer than or equal to 1 the loop is executed\n",
    "    for i in range(1,number+1):\n",
    "        factorial = factorial *i\n",
    "    print(f\"The factorial of the number is {factorial}\") #The factorial is printed as output\n",
    "elif number==0:\n",
    "    print(f\"The factorial of {number} is 1 \") #The factorial of 0 is 1\n",
    "else:\n",
    "    print(\"The factorial is undefined\") # The factorial of any other type of numbers is undefined\n"
   ]
  },
  {
   "cell_type": "code",
   "execution_count": 17,
   "id": "791c35c5-2ba9-4e6d-b5de-62e98dfbd619",
   "metadata": {},
   "outputs": [
    {
     "name": "stdin",
     "output_type": "stream",
     "text": [
      "Enter the number 20\n",
      "Till what times you need the table: 10\n"
     ]
    },
    {
     "name": "stdout",
     "output_type": "stream",
     "text": [
      "20*1 =  20\n",
      "20*2 =  40\n",
      "20*3 =  60\n",
      "20*4 =  80\n",
      "20*5 =  100\n",
      "20*6 =  120\n",
      "20*7 =  140\n",
      "20*8 =  160\n",
      "20*9 =  180\n",
      "20*10 =  200\n"
     ]
    }
   ],
   "source": [
    "# Question 5\n",
    "\n",
    "# Create a program to print the multiplication table of a given number using a `for` loop.\n",
    "\n",
    "number = int(input(\"Enter the number\")) #get the input froom the user\n",
    "n = int(input(\"Till what times you need the table:\")) # till what times\n",
    "\n",
    "for i in range(1,n+1):\n",
    "    print(f\"{number}*{i} = \",number*i) # the input number is multiplied with the integers from range 1 to n+1"
   ]
  },
  {
   "cell_type": "code",
   "execution_count": 21,
   "id": "fb025aef-cc73-4bdf-8d37-71f036eee688",
   "metadata": {},
   "outputs": [
    {
     "name": "stdout",
     "output_type": "stream",
     "text": [
      "The even numbers count is 5 \n",
      "The odd numbers count is 5\n"
     ]
    }
   ],
   "source": [
    "# Question 6\n",
    "\n",
    "#  Write a program that counts the number of even and odd numbers in a list using a `for` loop\n",
    "\n",
    "sample = [1,2,3,4,5,6,7,8,9,10] #sample list of 10 integers\n",
    "\n",
    "odd_count = 0 # initializing two variables odd_count and even_count with 0\n",
    "even_count = 0\n",
    "for i in sample:\n",
    "    if i%2==0:\n",
    "        even_count += sample.count(i) # The count function is used here to find the count of the element occurrence\n",
    "    elif i%2!=0:\n",
    "        odd_count += sample.count(i)\n",
    "        \n",
    "print(f\"The even numbers count is {even_count} \\nThe odd numbers count is {odd_count}\") # The even and odd count is printed\n",
    "        "
   ]
  },
  {
   "cell_type": "code",
   "execution_count": 25,
   "id": "9e5d0182-ed95-449a-9f26-10e6f0596deb",
   "metadata": {},
   "outputs": [
    {
     "name": "stdout",
     "output_type": "stream",
     "text": [
      "The square of 1 is = 1\n",
      "The square of 2 is = 4\n",
      "The square of 3 is = 9\n",
      "The square of 4 is = 16\n",
      "The square of 5 is = 25\n"
     ]
    }
   ],
   "source": [
    "# Question 7\n",
    "\n",
    "# Develop a program that prints the squares of numbers from 1 to 5 using a `for` loop.\n",
    "\n",
    "for i in range(1,6): #range function is used for the range of integers from 1 to 5\n",
    "    print(f\"The square of {i} is =\", i*i) #The squares are printed as the output"
   ]
  },
  {
   "cell_type": "code",
   "execution_count": 26,
   "id": "2a99ee44-aa5b-48b8-94c2-4a9bbb8e88b0",
   "metadata": {},
   "outputs": [
    {
     "name": "stdin",
     "output_type": "stream",
     "text": [
      "Enter the string: saji\n"
     ]
    },
    {
     "name": "stdout",
     "output_type": "stream",
     "text": [
      "The length of the string is = 4\n"
     ]
    }
   ],
   "source": [
    "# Question 8\n",
    "\n",
    "# Create a program to find the length of a string without using the `len()` function\n",
    "\n",
    "s = input(\"Enter the string:\") #User input is taken and stored in variable s\n",
    "\n",
    "counter = 0 #counter variable is initialized to count the number of elements\n",
    "\n",
    "for i in s:\n",
    "    counter +=1 #counter is incremented by 1\n",
    "    \n",
    "print(\"The length of the string is =\",counter) # The length is printed as the output"
   ]
  },
  {
   "cell_type": "code",
   "execution_count": 35,
   "id": "8f5edc40-4d66-40b3-a93d-f17a49754ea7",
   "metadata": {},
   "outputs": [
    {
     "name": "stdout",
     "output_type": "stream",
     "text": [
      "The average is = 6.17\n"
     ]
    }
   ],
   "source": [
    "# Question 9\n",
    "\n",
    "# Write a program that calculates the average of a list of numbers using a `for` loop.\n",
    "\n",
    "sample = [1,2,4,5,10,15]  #The sample list consists of integers\n",
    "\n",
    "total_sum = 0 # The variable total sum is initialized to 0 is used to calculate the sum of elements present in the list\n",
    "\n",
    "for i in sample:\n",
    "    total_sum+=i\n",
    "    \n",
    "average = total_sum/len(sample) #The len() function is used to calculate the length of the list variable average is used to store the average\n",
    "\n",
    "print(\"The average is =\",round(average,2)) # The average is rounded to two decimal points and is printed as the output\n",
    "\n",
    "\n",
    "\n",
    "\n"
   ]
  },
  {
   "cell_type": "code",
   "execution_count": 45,
   "id": "f2d14716-5dbc-457a-b0d4-8de8a18d1788",
   "metadata": {},
   "outputs": [
    {
     "name": "stdin",
     "output_type": "stream",
     "text": [
      "The number of series you want: 9\n"
     ]
    },
    {
     "name": "stdout",
     "output_type": "stream",
     "text": [
      "0 1 1 2 3 5 8 13 21 34 "
     ]
    }
   ],
   "source": [
    "#Question 10\n",
    "\n",
    "# Develop a program that prints the first `n` Fibonacci numbers using a `for` loop.\n",
    "\n",
    "n =int(input(\"The number of series you want:\")) # The user input is taken and stored in vnriable n\n",
    "\n",
    "a = 0 # The value of a is initialized to 0\n",
    "b = 1 # The value of b is initialized to 1\n",
    "if n<=0:\n",
    "    print(\"The fibonacci series for the number is \",a) #if the number user entered is less than or 0 return 0\n",
    "else:\n",
    "    print(a,b,end=\" \") # a and b are printed \n",
    "    for i in range(1,n):\n",
    "        c= a + b        # c is the sum of the values in a and b\n",
    "        print(c,end = \" \") # the end parameter is used to print the output on the same line\n",
    "        a,b=b,c # the values are swapped a becomes b and b becomes c \n"
   ]
  },
  {
   "cell_type": "code",
   "execution_count": 49,
   "id": "fa686fd8-ca30-4b53-a167-5cabd7886ae4",
   "metadata": {},
   "outputs": [
    {
     "name": "stdout",
     "output_type": "stream",
     "text": [
      "The list doesnt have duplicates\n"
     ]
    }
   ],
   "source": [
    "# INTERMEDIATE LEVEL\n",
    "\n",
    "# Write a program to check if a given list contains any duplicates using a `for` loop.\n",
    "\n",
    "sample = [1,2,3,3,5,6,7] #sample list consists of integers with duplicates\n",
    "\n",
    "flag = 0 #  initialize a variable flag as 0, assuming that the list has no duplicates\n",
    "for i in sample: # loop through the list\n",
    "    if sample.count(i)>1: # count() is used to check the occurrence of a specific element in the list\n",
    "        flag = 1 #if the count is greater than 1, meaning an elemeent has occured more than once flag is changed to 1\n",
    "        break #the loops breaks\n",
    "if flag ==1:\n",
    "    print(\"The list has duplicates\") #if the flag is 1 it means there are duplicates and the output is printed\n",
    "else:\n",
    "    print(\"The list doesnt have duplicates\")"
   ]
  },
  {
   "cell_type": "code",
   "execution_count": 2,
   "id": "23ec2aea-8f47-4339-bdf2-998b05dbea86",
   "metadata": {},
   "outputs": [
    {
     "name": "stdin",
     "output_type": "stream",
     "text": [
      "Enter the starting range: 10\n",
      "Enter the ending range: 20\n"
     ]
    },
    {
     "name": "stdout",
     "output_type": "stream",
     "text": [
      "11 13 17 19 "
     ]
    }
   ],
   "source": [
    "# Question 2\n",
    "\n",
    "#  Create a program that prints the prime numbers in a given range using a `for` loop.\n",
    "\n",
    "lower = int(input(\"Enter the starting range:\")) #The starting range is stored in variable lower\n",
    "upper = int(input(\"Enter the ending range:\")) # The ending range is stored in variable upper\n",
    "\n",
    "for number in range(lower, upper + 1):\n",
    "    if number>1: # The number should be greater than 1\n",
    "        for i in range(2,number): # the range is set from 2 to the number\n",
    "            if number%i==0: # check if the number remainder is 1 if it is it is a prime number\n",
    "                break   # if it the number remainder is not equal to 1 ie 0 , then it is a non prime number\n",
    "                        # the loop breaks and check for the next number\n",
    "        else:\n",
    "            print(number,end = \" \") # The prime numbers are printed \n",
    "        \n",
    "        \n"
   ]
  },
  {
   "cell_type": "code",
   "execution_count": 4,
   "id": "8b0ece2d-71e0-4789-ba46-c187ce45566b",
   "metadata": {},
   "outputs": [
    {
     "name": "stdin",
     "output_type": "stream",
     "text": [
      "Enter a string: aeiou\n"
     ]
    },
    {
     "name": "stdout",
     "output_type": "stream",
     "text": [
      "The total number of vowels in the string = 5\n"
     ]
    }
   ],
   "source": [
    "# Question 3\n",
    "\n",
    "# Develop a program that counts the number of vowels in a string using a `for` loop.\n",
    "\n",
    "vowels = ['a','e','i','o','u'] # vowels list is initialized containing vowels\n",
    "\n",
    "count = 0 #cout is initialized to count the total number of vowels\n",
    "\n",
    "s = input(\"Enter a string:\") #The string entered by the user is stored in variable s\n",
    "\n",
    "for i in s:   #looping through the string   \n",
    "    if i in vowels: #checks if the element is in the vowels list\n",
    "        count+=1 # if yes, count is incremented by 1\n",
    "    else:\n",
    "        count = 0 # if no, vowel count stays 0\n",
    "    \n",
    "print(\"The total number of vowels in the string =\",count)\n",
    "    \n",
    "    "
   ]
  },
  {
   "cell_type": "code",
   "execution_count": 5,
   "id": "e263d9cd-5c32-4b16-b4b1-235bd6320617",
   "metadata": {},
   "outputs": [
    {
     "name": "stdout",
     "output_type": "stream",
     "text": [
      "[4, 5]\n",
      "[4, 5]\n",
      "[6, 7]\n"
     ]
    }
   ],
   "source": [
    "#Question 4\n",
    "\n",
    "# Write a program to find the maximum element in a 2D list using a nested `for` loop\n",
    "\n",
    "sample = [[4,5],[6,7],[8,9]] # Sample 2d list is  intitialized\n",
    "\n",
    "for i in range(0,len(sample)):\n",
    "    for j in range(0,i):\n",
    "        print(sample[j])\n",
    "               \n",
    "    "
   ]
  },
  {
   "cell_type": "code",
   "execution_count": 24,
   "id": "b06b8865-df82-4edf-84eb-f304df1ee155",
   "metadata": {},
   "outputs": [
    {
     "name": "stdin",
     "output_type": "stream",
     "text": [
      "Enter the element you want to remove: x\n"
     ]
    },
    {
     "name": "stdout",
     "output_type": "stream",
     "text": [
      "The list before changing ['a', 'n', 't', 'a', 'r', 't', 'i', 'c', 'a']\n",
      "The element you entered is not in the list\n"
     ]
    }
   ],
   "source": [
    "#Question 5\n",
    "\n",
    "#  Create a program that removes all occurrences of a specific element from a list using a `for` loop.\n",
    "\n",
    "sample = ['a','n','t','a','r','t','i','c','a'] # A sample list is initialized with characters\n",
    "\n",
    "element = input(\"Enter the element you want to remove:\") #input from the user  on which element to remove is stored in element variable\n",
    "\n",
    "print(\"The list before changing\",sample)\n",
    "\n",
    "if element in sample: # before looping check if the element is present in the list\n",
    "    for i in sample: # looping the list\n",
    "        if i==element: # check is the element is in the list\n",
    "            sample.remove(element) #remove the element in the list using remove() method\n",
    "            \n",
    "    print(\"The changed list is\", sample) #print the new list\n",
    "else:\n",
    "    print(\"The element you entered is not in the list\") #print this if the word is not in the list\n",
    "\n"
   ]
  },
  {
   "cell_type": "code",
   "execution_count": 41,
   "id": "9998c2ad-6f14-4741-9286-ef57869a2aef",
   "metadata": {},
   "outputs": [
    {
     "name": "stdout",
     "output_type": "stream",
     "text": [
      "\t\t\tMultiplication Table\n",
      "\n",
      "1\t 2\t 3\t 4\t 5\t \n",
      "___________________________________\n",
      "1\t2\t3\t4\t5\t\n",
      "\n",
      "2\t4\t6\t8\t10\t\n",
      "\n",
      "3\t6\t9\t12\t15\t\n",
      "\n",
      "4\t8\t12\t16\t20\t\n",
      "\n",
      "5\t10\t15\t20\t25\t\n",
      "\n",
      "6\t12\t18\t24\t30\t\n",
      "\n",
      "7\t14\t21\t28\t35\t\n",
      "\n",
      "8\t16\t24\t32\t40\t\n",
      "\n",
      "9\t18\t27\t36\t45\t\n",
      "\n",
      "10\t20\t30\t40\t50\t\n",
      "\n"
     ]
    }
   ],
   "source": [
    "#Question 6\n",
    "\n",
    "# Develop a program that generates a multiplication table for numbers from 1 to 5 using a nested `for` loop.\n",
    "print(\"\\t\\t\\tMultiplication Table\\n\")\n",
    "for i in range(1,6): \n",
    "    print(i, end = \"\\t \") \n",
    "print()\n",
    "print(\"___________________________________\")\n",
    "for i in range(1,11): #oute r for loop prints till 1 to 10\n",
    "    for j in range(1,6): #inner for loop prints till 1 to 5\n",
    "        print(j*i,end= \"\\t\") # print the table \n",
    "    print(\"\\n\") "
   ]
  },
  {
   "cell_type": "code",
   "execution_count": 46,
   "id": "47827668-dc99-42b0-83be-989043c04817",
   "metadata": {},
   "outputs": [
    {
     "name": "stdout",
     "output_type": "stream",
     "text": [
      "The converted values are [37.78, 31.11, 33.33, 37.0, 34.94]\n"
     ]
    }
   ],
   "source": [
    "# Question 7\n",
    "\n",
    "# Write a program that converts a list of Fahrenheit temperatures to Celsius using a `for` loop.\n",
    "\n",
    "fahrenheit_temp = [100,88,92,98.6,94.9]           #list fahrenheit_temp is initialized with fahrenheit values\n",
    "celsius_values = []                               #List celsius values is empty\n",
    "\n",
    "for i in fahrenheit_temp:                        # loop the list fahrenheit_temp\n",
    "    celsius_values.append(round((i-32)*5/9,2))   # convert the fahrenheit values to celsius,\n",
    "                                                 # round the value to 2 decimal places using round() and append them to celsius_values list by append() \n",
    "print(\"The converted values are\", celsius_values) # print the values\n"
   ]
  },
  {
   "cell_type": "code",
   "execution_count": 51,
   "id": "e3567ed9-a5ca-409d-9c81-77b1b74da457",
   "metadata": {},
   "outputs": [
    {
     "name": "stdout",
     "output_type": "stream",
     "text": [
      "The common elements for both the lists are [2, 3, 4]\n"
     ]
    }
   ],
   "source": [
    "# Question 8\n",
    "\n",
    "#  Create a program to print the common elements from two lists using a `for` loop.\n",
    "\n",
    "list_1 = [1,2,3,4,5]   # Initializing two lists list_1 and list_2 with integer values\n",
    "list_2 = [2,3,4,99,88]\n",
    "common = []             # Initializing an empty list common to store the common values\n",
    "\n",
    "for i in list_1:         # looping the list_1\n",
    "    if i in list_2:     # checking if the value is in list_2\n",
    "        common.append(i) # if the values are common append the value to the common list using append()\n",
    "print(\"The common elements for both the lists are\",common) #print the common values\n"
   ]
  },
  {
   "cell_type": "code",
   "execution_count": 13,
   "id": "72e44fe4-7443-4681-a4be-39e8258dd604",
   "metadata": {},
   "outputs": [
    {
     "name": "stdin",
     "output_type": "stream",
     "text": [
      "How many rows do you want to print: 10\n"
     ]
    },
    {
     "name": "stdout",
     "output_type": "stream",
     "text": [
      "Right angled Triangle\n",
      "* \n",
      "* * \n",
      "* * * \n",
      "* * * * \n",
      "* * * * * \n",
      "* * * * * * \n",
      "* * * * * * * \n",
      "* * * * * * * * \n",
      "* * * * * * * * * \n",
      "* * * * * * * * * * \n"
     ]
    }
   ],
   "source": [
    "# Question 9\n",
    "\n",
    "# Develop a program that prints the pattern of right-angled triangles using a `for` loop. Use ‘*’ to draw the patterm\n",
    "\n",
    "\n",
    "row = int(input(\"How many rows do you want to print:\"))# input is taken from the usera and converted to integer and saved in rows\n",
    "print(\"Right angled Triangle\")           # Printing a message for the user       \n",
    "for i in range(1,row+1):               # The outer loop decides number of rows\n",
    "    for j in range(1,i+1):            # Inner loop decides the number of stars\n",
    "        print(\"*\",end = \" \")         # printing the output, end is used to print in the same line\n",
    "    print()\n",
    "           \n",
    "\n",
    "\n",
    "\n",
    "\n"
   ]
  },
  {
   "cell_type": "code",
   "execution_count": 19,
   "id": "17f9085b-b5e0-4308-a08c-feb893643dca",
   "metadata": {},
   "outputs": [
    {
     "name": "stdin",
     "output_type": "stream",
     "text": [
      "Enter the first number: 5\n",
      "Enter the second number: 10\n"
     ]
    },
    {
     "name": "stdout",
     "output_type": "stream",
     "text": [
      "The gcd of 5 and 10 is 1\n"
     ]
    }
   ],
   "source": [
    "# Question 10\n",
    "\n",
    "# Write a program to find the greatest common divisor (GCD) of two numbers using a `for` loop.\n",
    "\n",
    "num1 = int(input(\"Enter the first number:\")) # The inputs from the user are stored in num1 and num2\n",
    "\n",
    "num2 = int(input(\"Enter the second number:\"))\n",
    "\n",
    "\n",
    "gcd = 1 # Initialize gcd as one\n",
    "\n",
    "for i in range(1,min(num1,num2)):  # min function is used to return the lowest value between num1 and num2      \n",
    "               \n",
    "    if num1%i == 0 and num2%i == 0:  # The highest number that divides both num1 and num2 is noted\n",
    "        gcd = i                      # gcd becomes that number\n",
    "print(f\"The gcd of {num1} and {num2} is {gcd}\") # The output is printed\n"
   ]
  },
  {
   "cell_type": "code",
   "execution_count": 32,
   "id": "938c9255-8422-426e-ab35-f829bac74982",
   "metadata": {},
   "outputs": [
    {
     "name": "stdout",
     "output_type": "stream",
     "text": [
      "The sum is = 207\n"
     ]
    }
   ],
   "source": [
    "# ADVANCED LEVEL \n",
    "\n",
    "# Question 1\n",
    "\n",
    "#  Create a program that calculates the sum of the digits of numbers in a list using a list comprehension.\n",
    "\n",
    "sample = [1,2,3,45,67,89] #Initialize a list sample with integers\n",
    "total = 0 # Initialize the total variable to 0\n",
    "\n",
    "x = [total:=total+i for i in sample] #The total is calculated using list comprehension\n",
    "print(\"The sum is =\",total) #The sum is printed\n"
   ]
  },
  {
   "cell_type": "code",
   "execution_count": 33,
   "id": "0b24e6a5-d9da-455d-b750-e12cffcf7d48",
   "metadata": {},
   "outputs": [],
   "source": [
    "# Question 2\n",
    "\n",
    "# Write a program to find the prime factors of a given number using a `for` loop and list comprehension.\n",
    "\n",
    "\n",
    "\n"
   ]
  },
  {
   "cell_type": "code",
   "execution_count": 38,
   "id": "e1301247-be34-4c50-a1e6-f7cc24bb2b47",
   "metadata": {},
   "outputs": [
    {
     "name": "stdout",
     "output_type": "stream",
     "text": [
      "The unique list is  [1, 2, 3, 4, 5, 6]\n"
     ]
    }
   ],
   "source": [
    "# Question 3\n",
    "\n",
    "# Develop a program that extracts unique elements from a list and stores them in a new list using a list comprehension.\n",
    "\n",
    "list1 = [1,2,3,3,4,4,5,6] #Initialize a sample list with integers\n",
    "\n",
    "unique_list = [ x  for x in set(list1)] # convert the list into set to extract unique elements using set()\n",
    "\n",
    "print(\"The unique list is \",unique_list) # unique list is printed\n",
    "\n"
   ]
  },
  {
   "cell_type": "code",
   "execution_count": 7,
   "id": "f12b1682-6306-4836-b652-e39501f3c474",
   "metadata": {},
   "outputs": [
    {
     "ename": "SyntaxError",
     "evalue": "invalid syntax. Maybe you meant '==' or ':=' instead of '='? (2018314663.py, line 11)",
     "output_type": "error",
     "traceback": [
      "\u001b[0;36m  Cell \u001b[0;32mIn[7], line 11\u001b[0;36m\u001b[0m\n\u001b[0;31m    palindrome = [num = str(i) i for i in range(1,limit) num if \"\".join(reversed(num))==num]\u001b[0m\n\u001b[0m                  ^\u001b[0m\n\u001b[0;31mSyntaxError\u001b[0m\u001b[0;31m:\u001b[0m invalid syntax. Maybe you meant '==' or ':=' instead of '='?\n"
     ]
    }
   ],
   "source": [
    "# Question 4\n",
    "\n",
    "# Create a program that generates a list of all palindromic numbers up to a specified limit using a list comprehension.\n",
    "\n",
    "limit = int(input(\"Enter the limit\")) #20 11\n",
    "for i in range(0,limit):\n",
    "    num = str(i)\n",
    "    if \"\".join(reversed(num)) == num:\n",
    "        print(i)\n",
    "\n",
    "palindrome = [i for i in range(1,limit) num if \"\".join(reversed(num))==num]          \n",
    "            \n",
    "print(palindrome)"
   ]
  },
  {
   "cell_type": "code",
   "execution_count": 14,
   "id": "9c29572f-b95a-4f67-8387-9c1321563a85",
   "metadata": {},
   "outputs": [
    {
     "name": "stdout",
     "output_type": "stream",
     "text": [
      "The nested list is [[1, 2, 3], [6, 7]]\n",
      "The flattened list is [1, 2, 3, 6, 7]\n"
     ]
    }
   ],
   "source": [
    "# Question 5\n",
    "\n",
    "# Write a program to flatten a nested list using list comprehension\n",
    "\n",
    "sample_list = [[1,2,3],[6,7]] # initialize a sample list with nested elements\n",
    "\n",
    "flattened_list=[element for inner_list in sample_list for element in inner_list]\n",
    "# nested elements are takemn out and flattened into a new list \n",
    "\n",
    "print(\"The nested list is\",sample_list)\n",
    "print(f\"The flattened list is {flattened_list}\")\n",
    "\n",
    "# The output is printed"
   ]
  },
  {
   "cell_type": "code",
   "execution_count": 5,
   "id": "875ef373-6129-4f4f-a27c-40df4623275f",
   "metadata": {},
   "outputs": [
    {
     "name": "stdout",
     "output_type": "stream",
     "text": [
      "12\n",
      "9\n"
     ]
    }
   ],
   "source": [
    "# Question 6\n",
    "\n",
    "# Develop a program that computes the sum of even and odd numbers in a list separately using list comprehension.\n",
    "\n",
    "sample_list = [1,2,3,4,5,6] # initialize  a list with odd and even numbers\n",
    "\n",
    "sum_of_even_numbers = sum([i for i in sample_list if i%2==0 ]) # sum of the even numbers\n",
    "sum_of_odd_numbers = sum([i for i in sample_list if i%2!=0 ]) # sum of the odd numbers\n",
    "print(sum_of_even_numbers)\n",
    "print(sum_of_odd_numbers)"
   ]
  },
  {
   "cell_type": "code",
   "execution_count": 6,
   "id": "c0d89e00-17fb-4863-ab16-0171cb426f70",
   "metadata": {},
   "outputs": [
    {
     "name": "stdout",
     "output_type": "stream",
     "text": [
      "[1, 9, 25, 49, 81]\n"
     ]
    }
   ],
   "source": [
    "# Question 7\n",
    "\n",
    "# Create a program that generates a list of squares of odd numbers between 1 and 10 using list comprehension.\n",
    "\n",
    "sq_list = [ i**2 for i in range(1,10) if i%2!=0]\n",
    "\n",
    "print(f\"The squares of odd numbers from 1 to 10 are {sq_list}\")"
   ]
  },
  {
   "cell_type": "code",
   "execution_count": 1,
   "id": "52d3139c-2c69-432a-a49b-3370151bf8df",
   "metadata": {},
   "outputs": [
    {
     "name": "stdout",
     "output_type": "stream",
     "text": [
      "{'apple': 1, 'orange': 2, 'grapes': 3}\n"
     ]
    }
   ],
   "source": [
    "# Question 8\n",
    "\n",
    "#  Write a program that combines two lists into a dictionary using list comprehension.\n",
    "\n",
    "key_list = ['apple','orange','grapes'] # intialize two lists key_list and value_list\n",
    "\n",
    "value_list = [1,2,3]\n",
    "\n",
    "result = {key_list[i]:value_list[i] for i in range(len(key_list))}\n",
    "\n",
    "print(f\"The dictionary is {result}\") #print the result ater comprehension\n",
    "          \n"
   ]
  },
  {
   "cell_type": "code",
   "execution_count": 3,
   "id": "c5167563-a9a9-4ace-8bd9-93d6690dc961",
   "metadata": {},
   "outputs": [
    {
     "name": "stdin",
     "output_type": "stream",
     "text": [
      "Enter the string aeioyf\n"
     ]
    },
    {
     "name": "stdout",
     "output_type": "stream",
     "text": [
      "The vowels list is ['a', 'e', 'i', 'o']\n"
     ]
    }
   ],
   "source": [
    "# Question 9\n",
    "\n",
    "# Develop a program that extracts the vowels from a string and stores them in a list using list comprehension.\n",
    "\n",
    "vowels = ['a','e','i','o','u'] #initialize a list with vowels\n",
    "\n",
    "string = input(\"Enter the string\") # store the user input in the variable string\n",
    "\n",
    "\n",
    "vowel_list = [i for i in string if i in vowels]\n",
    "\n",
    "\n",
    "print(f\"The vowels list is {vowel_list}\") #print the result"
   ]
  },
  {
   "cell_type": "code",
   "execution_count": 9,
   "id": "c791ad42-ddcb-482e-8a5c-f7a4b2c2d6d1",
   "metadata": {},
   "outputs": [
    {
     "name": "stdout",
     "output_type": "stream",
     "text": [
      "The list before ['saji', '123', '24', 'sajeeth']\n",
      "The new list is ['123', '24']\n"
     ]
    }
   ],
   "source": [
    "# Question 10\n",
    "\n",
    "#  Create a program that removes all non-numeric characters from a list of strings using list comprehension.\n",
    "\n",
    "sample_list = ['saji','123','24','sajeeth'] # initialize a list with strings\n",
    "\n",
    "filtered_list = [i for i in sample_list if i.isnumeric() ] # The isnumeric() is used to check whether the string contains numbers\n",
    "\n",
    "print(\"The list before\",sample_list) # print the result\n",
    "print(f\"The new list is {filtered_list}\")"
   ]
  },
  {
   "cell_type": "code",
   "execution_count": 4,
   "id": "9fb009cc-cff1-48d6-a7aa-10e6150494c9",
   "metadata": {},
   "outputs": [
    {
     "name": "stdin",
     "output_type": "stream",
     "text": [
      "Enter the value 2\n"
     ]
    }
   ],
   "source": [
    "# CHALLENGE LEVEL\n",
    "\n",
    "# Write a program to generate a list of prime numbers using the Sieve of Eratosthenes algorithm and list comprehension.\n",
    "\n",
    "n = int(input(\"Enter the value\"))\n",
    "\n",
    "prime_list = []\n",
    "\n",
    "new_list = [j for i in range(2,n+1) for j in range(i*i,n+1,i) if i not in prime_list]\n",
    "    "
   ]
  },
  {
   "cell_type": "code",
   "execution_count": 3,
   "id": "3549742e-31e3-4d19-aad9-614e02f2346b",
   "metadata": {},
   "outputs": [],
   "source": [
    "# Question 2\n",
    "\n",
    "#  Create a program that generates a list of all Pythagorean triplets up to a specified limit using list comprehension.\n",
    "\n",
    "\n"
   ]
  },
  {
   "cell_type": "code",
   "execution_count": 15,
   "id": "7ae0f9fa-11f7-44af-9719-4d139e8d4a85",
   "metadata": {},
   "outputs": [
    {
     "name": "stdout",
     "output_type": "stream",
     "text": [
      "3.5\n"
     ]
    }
   ],
   "source": [
    "# Question 4\n",
    "\n",
    "# Write a program that calculates the mean, median, and mode of a list of numbers using list comprehension.\n",
    "\n",
    "numbers_list = [1,2,3,4,5,6] # initializing the numbers_list\n",
    "\n",
    "mean =  sum([i for i in numbers_list])/len(numbers_list)\n",
    "print(mean)\n"
   ]
  },
  {
   "cell_type": "code",
   "execution_count": 16,
   "id": "b764e09f-17d2-42f1-9d28-875e8a621d85",
   "metadata": {},
   "outputs": [
    {
     "name": "stdin",
     "output_type": "stream",
     "text": [
      "Enter the string saaaaji\n"
     ]
    },
    {
     "name": "stdout",
     "output_type": "stream",
     "text": [
      "[]\n"
     ]
    }
   ],
   "source": [
    "# Question 8\n",
    "\n",
    "#  Create a program that filters a list of strings to include only those with more than three vowels using list comprehension.\n",
    "\n",
    "vowels = ['a','e','i','o','u']\n",
    "\n",
    "string = input(\"Enter the string\")\n",
    "\n",
    "x = [i for i in string if i in vowels and vowels.count(i)>3]\n",
    "\n",
    "print(x)"
   ]
  },
  {
   "cell_type": "code",
   "execution_count": null,
   "id": "67147bbe-48ab-4a69-9451-2974c1e11835",
   "metadata": {},
   "outputs": [],
   "source": []
  }
 ],
 "metadata": {
  "kernelspec": {
   "display_name": "Python 3 (ipykernel)",
   "language": "python",
   "name": "python3"
  },
  "language_info": {
   "codemirror_mode": {
    "name": "ipython",
    "version": 3
   },
   "file_extension": ".py",
   "mimetype": "text/x-python",
   "name": "python",
   "nbconvert_exporter": "python",
   "pygments_lexer": "ipython3",
   "version": "3.10.8"
  }
 },
 "nbformat": 4,
 "nbformat_minor": 5
}
